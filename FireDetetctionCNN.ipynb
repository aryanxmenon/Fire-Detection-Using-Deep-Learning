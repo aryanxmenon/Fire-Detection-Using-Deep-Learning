{
  "cells": [
    {
      "cell_type": "code",
      "execution_count": null,
      "metadata": {
        "id": "5tCss89K1D3k"
      },
      "outputs": [],
      "source": [
        "#Import necessary modules\n",
        "import matplotlib.pyplot as plt\n",
        "import os\n",
        "import numpy as np\n",
        "import urllib.request\n",
        "from PIL import Image"
      ]
    },
    {
      "cell_type": "code",
      "execution_count": null,
      "metadata": {
        "id": "GGaRivWw1D3l"
      },
      "outputs": [],
      "source": [
        "# Image preprocessing - Resizing and normalizing the image\n",
        "size = (128,128)\n",
        "def preProcessImage(image):\n",
        "    resizedImage = image.resize(size)\n",
        "    imageArray = np.array(resizedImage)\n",
        "    if imageArray.dtype == np.uint8:\n",
        "        imageArray = imageArray.astype(np.float32) / 255.0\n",
        "    return imageArray"
      ]
    },
    {
      "cell_type": "code",
      "execution_count": null,
      "metadata": {
        "id": "sMgg4-rZ1D3l"
      },
      "outputs": [],
      "source": [
        "#JPG to array conversion\n",
        "def jpgToArray(folderPath):\n",
        "    imageList = []\n",
        "    for filename in os.listdir(folderPath):\n",
        "        if filename.endswith(\".jpg\"):\n",
        "            imagePath = os.path.join(folderPath, filename)\n",
        "            image = Image.open(imagePath)\n",
        "            preProcessedImage = preProcessImage(image)\n",
        "            imageList.append(preProcessedImage)\n",
        "    return np.array(imageList)"
      ]
    },
    {
      "cell_type": "code",
      "execution_count": null,
      "metadata": {
        "collapsed": true,
        "id": "xB2IGuim_rKs"
      },
      "outputs": [],
      "source": [
        "#Mount drive to colab\n",
        "from google.colab import drive\n",
        "drive.mount('/content/drive')"
      ]
    },
    {
      "cell_type": "code",
      "execution_count": null,
      "metadata": {
        "id": "LUg2NG_J1D3m"
      },
      "outputs": [],
      "source": [
        "'''Load, concatenate, and shuffle images from fire and no-fire directories\n",
        "Assign label 1 to images with fire and 0 to images with no fire'''\n",
        "def loadAndLabelImages():\n",
        "  fireImagePath = \"/content/drive/MyDrive/Fire-Detection/1/\"\n",
        "  noFireImagePath = \"/content/drive/MyDrive/Fire-Detection/0/\"\n",
        "  fireImageArray = jpgToArray(fireImagePath)\n",
        "  noFireImageArray = jpgToArray(noFireImagePath)\n",
        "  np.random.seed(1)\n",
        "  combinedArray = np.concatenate((fireImageArray, noFireImageArray), axis=0)\n",
        "  indices = np.random.permutation(len(combinedArray))\n",
        "  combinedArray = combinedArray[indices]\n",
        "  fireLabels = np.ones(len(fireImageArray))\n",
        "  noFirelabels = np.zeros(len(noFireImageArray))\n",
        "  combinedLabels = np.concatenate((fireLabels, noFirelabels), axis=0)\n",
        "  combinedLabels = combinedLabels[indices]\n",
        "  return combinedArray,combinedLabels"
      ]
    },
    {
      "cell_type": "code",
      "execution_count": null,
      "metadata": {
        "id": "--Sue2Pk1D3o"
      },
      "outputs": [],
      "source": [
        "#Split the data into train and test sets\n",
        "def trainTestSplit():\n",
        "  combined=loadAndLabelImages()\n",
        "  combinedArray=combined[0]\n",
        "  combinedLabels=combined[1]\n",
        "  from sklearn.model_selection import train_test_split\n",
        "  trainImages, testImages, trainLabels, testLabels = train_test_split(combinedArray, combinedLabels, test_size=0.4)\n",
        "  return trainImages,trainLabels,testImages,testLabels"
      ]
    },
    {
      "cell_type": "code",
      "execution_count": null,
      "metadata": {
        "collapsed": true,
        "id": "O5EAyhyB1D3p"
      },
      "outputs": [],
      "source": [
        "trainTestData=trainTestSplit()\n",
        "trainImages=trainTestData[0]\n",
        "trainLabels=trainTestData[1]\n",
        "testImages=trainTestData[2]\n",
        "testLabels=trainTestData[3]\n",
        "\n",
        "import tensorflow as tf\n",
        "from tensorflow.keras import layers, models\n",
        "\n",
        "#CNN model definition\n",
        "model = models.Sequential([\n",
        "    layers.Conv2D(32, (3, 3), activation='relu', input_shape=(128, 128, 3)),\n",
        "    layers.MaxPooling2D((2, 2)),\n",
        "    layers.Conv2D(64, (3, 3), activation='relu'),\n",
        "    layers.MaxPooling2D((2, 2)),\n",
        "    layers.Conv2D(128, (3, 3), activation='relu'),\n",
        "    layers.Flatten(),\n",
        "    layers.Dense(64, activation='relu'),\n",
        "    layers.Dense(1, activation='sigmoid')\n",
        "])"
      ]
    },
    {
      "cell_type": "code",
      "execution_count": null,
      "metadata": {
        "id": "GgrALMxh1D3p"
      },
      "outputs": [],
      "source": [
        "#Compile the model\n",
        "model.compile(optimizer = \"adam\", loss = \"binary_crossentropy\", metrics = [\"accuracy\"])"
      ]
    },
    {
      "cell_type": "code",
      "execution_count": null,
      "metadata": {
        "collapsed": true,
        "id": "IeH05WvP1D3p"
      },
      "outputs": [],
      "source": [
        "#Train the model\n",
        "r = model.fit(trainImages,trainLabels, validation_data = (testImages,testLabels), epochs = 20)"
      ]
    },
    {
      "cell_type": "code",
      "execution_count": null,
      "metadata": {
        "colab": {
          "base_uri": "https://localhost:8080/",
          "height": 351
        },
        "id": "xUlzpuCD1D3q",
        "outputId": "97bbebe4-5ffc-4895-ed1c-01872da85bb5"
      },
      "outputs": [],
      "source": [
        "# Function to predict fire in an online image\n",
        "def predictFireOnline(image):\n",
        "  imageArray=preProcessImage(image)\n",
        "  preProcessedImage=np.expand_dims(imageArray, axis=0)\n",
        "  if preProcessedImage is not None:\n",
        "    prediction = model.predict(preProcessedImage)\n",
        "    if prediction >= 0.5:\n",
        "      return \"Fire\"\n",
        "    else:\n",
        "      return \"Not Fire\"\n",
        "# Example usage\n",
        "imageUrl=\"https://media.npr.org/assets/img/2022/07/28/gettyimages-1005969960_wide-1ca4677c6b5d9405eef93f46d735ff2ed96cee03.jpg?s=1100&c=50&f=jpeg\"\n",
        "#Replace example image URL with required image URL\n",
        "imageData = urllib.request.urlopen(imageUrl)\n",
        "image = Image.open(imageData)\n",
        "plt.imshow(image)\n",
        "plt.axis('off')\n",
        "plt.show()\n",
        "result = predictFireOnline(image)\n",
        "print(\"Prediction:\", result)\n"
      ]
    }
  ],
  "metadata": {
    "colab": {
      "provenance": []
    },
    "kaggle": {
      "accelerator": "none",
      "dataSources": [
        {
          "datasetId": 399530,
          "sourceId": 767109,
          "sourceType": "datasetVersion"
        }
      ],
      "dockerImageVersionId": 30646,
      "isGpuEnabled": false,
      "isInternetEnabled": true,
      "language": "python",
      "sourceType": "notebook"
    },
    "kernelspec": {
      "display_name": "Python 3",
      "language": "python",
      "name": "python3"
    },
    "language_info": {
      "codemirror_mode": {
        "name": "ipython",
        "version": 3
      },
      "file_extension": ".py",
      "mimetype": "text/x-python",
      "name": "python",
      "nbconvert_exporter": "python",
      "pygments_lexer": "ipython3",
      "version": "3.10.13"
    }
  },
  "nbformat": 4,
  "nbformat_minor": 0
}
